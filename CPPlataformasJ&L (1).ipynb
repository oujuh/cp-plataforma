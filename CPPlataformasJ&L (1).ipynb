{
  "nbformat": 4,
  "nbformat_minor": 0,
  "metadata": {
    "colab": {
      "provenance": []
    },
    "kernelspec": {
      "name": "python3",
      "display_name": "Python 3"
    },
    "language_info": {
      "name": "python"
    }
  },
  "cells": [
    {
      "cell_type": "markdown",
      "source": [
        "# **CASE: O vendedor de Pirozhki**\n",
        "Vladimir Sidorov desistiu de seu trabalho convencional na KGB e decidiu empreender em 2010 no ramo alimentício. Com suas economias abriu um foodtruck no bairro do Ipiranga – SP especializado na venda de Pirozhki, onde seu grande diferencial era trabalhar com ingredientes importados dando uma qualidade extraordinária ao produto. Após o crescimento das vendas, a modalidade delivery foi implementada para auxiliar a empresa. Vladimir era extremamente popular no bairro, todos o conheciam, mas em 2019 se mudou para um ponto melhor e não tivemos mais notícia. Os últimos dados compartilhados das vendas de Vlad foram disponibilizados antes de sua partida.\n",
        "\n",
        "\n",
        "## Ano vendas\n",
        "2010\t723<br>\n",
        "2011\t814<br>\n",
        "2012\t905<br>\n",
        "2014\t1087<br>\n",
        "2017\t1360<br>\n",
        "2018\t1451<br>\n",
        "2019\t1542<br>\n",
        "\n",
        "### Perguntas\n",
        "\n",
        "1 - Dado o problema acima, qual o melhor algoritmo para descobrir os dados de 2015?<br>\n",
        "2 - Qual coeficiente angular?<br>\n",
        "3 - Considerando uma perspectiva estatística, qual o total de venda em 2020 (Apresentar valores)?<br>\n",
        "4 - Considerando uma perspectiva estatística, qual o total de venda em 2021 (Apresentar valores)?<br>\n",
        "5 - Desenvolva um código em python que calcule estatisticamente as vendas em qualquer ano desejado<br>\n",
        "6 - Considerando sua opinião, qual o total de venda em 2021?<br>\n",
        "7 - Considerando sua opinião, qual o total de venda em 2023?<br>\n",
        "\n",
        "\n",
        "Nome: Julia Cristina Ferreira Silva <br>\n",
        "RM: 99018<br>\n",
        "Nome: Lucas Bueno Taets Gustavo <br>\n",
        "RM:552162<br>"
      ],
      "metadata": {
        "id": "deoSyjsp_x53"
      }
    },
    {
      "cell_type": "markdown",
      "source": [
        "### 1 - Dado o problema acima, qual o melhor algoritmo para descobrir os dados de 2015?"
      ],
      "metadata": {
        "id": "swdDUMRDId2w"
      }
    },
    {
      "cell_type": "code",
      "source": [
        "import numpy as np\n",
        "from sklearn.linear_model import LinearRegression\n",
        "\n",
        "# Dados de anos e vendas\n",
        "anos = np.array([2010, 2011, 2012, 2014, 2017, 2018, 2019]).reshape(-1, 1)\n",
        "vendas = np.array([723, 814, 905, 1087, 1360, 1451, 1542])\n",
        "\n",
        "# Crie um modelo de regressão linear\n",
        "modelo = LinearRegression()\n",
        "\n",
        "# Ajuste o modelo aos dados de treinamento\n",
        "modelo.fit(anos, vendas)\n",
        "\n",
        "# Use o modelo para prever as vendas em 2015\n",
        "ano_desejado = np.array([2015]).reshape(-1, 1)\n",
        "vendas_2015 = modelo.predict(ano_desejado)\n",
        "\n",
        "print(f\"Estimativa de vendas em 2015: {vendas_2015[0]:.2f}\")"
      ],
      "metadata": {
        "colab": {
          "base_uri": "https://localhost:8080/"
        },
        "id": "a8NURIohNZ1p",
        "outputId": "8298f9e5-b099-4ed6-abd9-0f52eb66f936"
      },
      "execution_count": 18,
      "outputs": [
        {
          "output_type": "stream",
          "name": "stdout",
          "text": [
            "Estimativa de vendas em 2015: 1178.00\n"
          ]
        }
      ]
    },
    {
      "cell_type": "markdown",
      "source": [
        "### 2 - Qual o coeficiente angular?"
      ],
      "metadata": {
        "id": "eTStPfMbDakR"
      }
    },
    {
      "cell_type": "code",
      "source": [
        "# Dados históricos\n",
        "\n",
        "anos = [2010, 2011, 2012, 2014, 2017, 2018, 2019]\n",
        "vendas = [723, 814, 905, 1087, 1360, 1451, 1542]\n",
        "\n",
        "# Calcular as somas necessárias\n",
        "N = len(anos)\n",
        "soma_xy = sum([ano * venda for ano, venda in zip(anos, vendas)])\n",
        "soma_x = sum(anos)\n",
        "soma_y = sum(vendas)\n",
        "soma_x2 = sum([ano ** 2 for ano in anos])\n",
        "\n",
        "# Calcular o coeficiente angular (m)\n",
        "coeficiente_angular = (N * soma_xy - soma_x * soma_y) / (N * soma_x2 - soma_x ** 2)\n",
        "\n",
        "print(\"Coeficiente Angular da Regressão Linear:\", coeficiente_angular)"
      ],
      "metadata": {
        "colab": {
          "base_uri": "https://localhost:8080/"
        },
        "id": "4aawuopOCu9y",
        "outputId": "15469905-da0a-49b6-adbb-c4499f2605b6"
      },
      "execution_count": 6,
      "outputs": [
        {
          "output_type": "stream",
          "name": "stdout",
          "text": [
            "Coeficiente Angular da Regressão Linear: 91.0\n"
          ]
        }
      ]
    },
    {
      "cell_type": "markdown",
      "source": [
        "### 3 - Considerando uma perspectiva estatística, qual o total de venda em 2020 (Apresentar valores)?"
      ],
      "metadata": {
        "id": "MrnIDUjjDdqE"
      }
    },
    {
      "cell_type": "code",
      "source": [
        "# Ano base (2010) e vendas correspondentes\n",
        "ano_base = 2010\n",
        "vendas_base = 723  # Vendas em 2010\n",
        "\n",
        "# Ano para o qual queremos prever as vendas (2020)\n",
        "ano_desejado = 2020\n",
        "\n",
        "# Calcula o número de anos entre o ano base e o ano desejado\n",
        "anos_passados = ano_desejado - ano_base\n",
        "\n",
        "# Previsão das vendas em 2020\n",
        "vendas_2020_estimativa = vendas_base + coeficiente_angular * anos_passados\n",
        "\n",
        "print(\"Total de Vendas Estimado em 2020:\", vendas_2020_estimativa)"
      ],
      "metadata": {
        "colab": {
          "base_uri": "https://localhost:8080/"
        },
        "id": "2EAVBatLDivS",
        "outputId": "ab352046-1762-4476-d6bc-4d976b54c01f"
      },
      "execution_count": 9,
      "outputs": [
        {
          "output_type": "stream",
          "name": "stdout",
          "text": [
            "Total de Vendas Estimado em 2020: 1633.0\n"
          ]
        }
      ]
    },
    {
      "cell_type": "markdown",
      "source": [
        "### 4 - Considerando uma perspectiva estatística, qual o total de venda em 2021 (Apresentar valores)?"
      ],
      "metadata": {
        "id": "hqmUSYiJDqM7"
      }
    },
    {
      "cell_type": "code",
      "source": [
        "# Coeficiente angular calculado anteriormente\n",
        "coeficiente_angular = 50.62  # Substitua pelo valor calculado no seu caso\n",
        "\n",
        "# Ano desejado\n",
        "ano_desejado_2021 = 2021\n",
        "\n",
        "# Estimar as vendas em 2021 usando o coeficiente angular\n",
        "vendas_2021_estimadas = vendas[-1] + (ano_desejado_2021 - anos[-1]) * coeficiente_angular\n",
        "\n",
        "print(f\"Estimativa de vendas em 2021: {vendas_2021_estimadas:.2f}\")\n"
      ],
      "metadata": {
        "colab": {
          "base_uri": "https://localhost:8080/"
        },
        "id": "h2xkSCtVDvgL",
        "outputId": "95cf5b45-1fc1-47a7-9578-3f33cdbf1c43"
      },
      "execution_count": 12,
      "outputs": [
        {
          "output_type": "stream",
          "name": "stdout",
          "text": [
            "Estimativa de vendas em 2021: 1643.24\n"
          ]
        }
      ]
    },
    {
      "cell_type": "markdown",
      "source": [
        "### 5 - Desenvolva um código em python que calcule estatisticamente as vendas em qualquer ano desejado"
      ],
      "metadata": {
        "id": "68lGbHV0D0ok"
      }
    },
    {
      "cell_type": "code",
      "source": [
        "import numpy as np\n",
        "\n",
        "# Dados históricos\n",
        "anos = [2010, 2011, 2012, 2014, 2017, 2018, 2019]\n",
        "vendas = [723, 814, 905, 1087, 1360, 1451, 1542]\n",
        "\n",
        "# Função para calcular as vendas em um ano desejado\n",
        "def calcular_vendas_em_ano_desejado(ano_desejado, anos, vendas):\n",
        "    # Verifica se o ano desejado está dentro do intervalo dos dados históricos\n",
        "    if ano_desejado < min(anos) or ano_desejado > max(anos):\n",
        "        return None  # Ano fora do intervalo, não é possível calcular\n",
        "\n",
        "    # Calcula o coeficiente angular da regressão linear\n",
        "    coeficiente_angular = np.polyfit(anos, vendas, 1)[0]\n",
        "\n",
        "    # Ano base e vendas correspondentes\n",
        "    ano_base = min(anos)\n",
        "    vendas_base = vendas[0]\n",
        "\n",
        "    # Calcula o número de anos entre o ano base e o ano desejado\n",
        "    anos_passados = ano_desejado - ano_base\n",
        "\n",
        "    # Previsão das vendas no ano desejado\n",
        "    vendas_estimadas = vendas_base + coeficiente_angular * anos_passados\n",
        "\n",
        "    return vendas_estimadas\n",
        "\n",
        "# Ano desejado para calcular as vendas\n",
        "ano_desejado = 2018\n",
        "\n",
        "# Calcula as vendas em 2020 usando a função\n",
        "vendas_2020_estimativa = calcular_vendas_em_ano_desejado(ano_desejado, anos, vendas)\n",
        "\n",
        "if vendas_2020_estimativa is not None:\n",
        "    print(f\"Total de Vendas Estimado em {ano_desejado}: {vendas_2020_estimativa}\")\n",
        "else:\n",
        "    print(f\"O ano {ano_desejado} está fora do intervalo dos dados históricos.\")"
      ],
      "metadata": {
        "colab": {
          "base_uri": "https://localhost:8080/"
        },
        "id": "Z6DdU6caEADl",
        "outputId": "f83dc41f-913a-4e11-a341-0edbdb5bb241"
      },
      "execution_count": 17,
      "outputs": [
        {
          "output_type": "stream",
          "name": "stdout",
          "text": [
            "Total de Vendas Estimado em 2018: 1451.0000000000005\n"
          ]
        }
      ]
    },
    {
      "cell_type": "markdown",
      "source": [
        "### 6 - Considerando sua opinião, qual o total de venda em 2021?\n",
        "A estimativa do total de vendas em 2021 com base na tendência histórica e na regressão linear é de aproximadamente 1633.3 unidades, conforme mencionado nas respostas anteriores. No entanto, esta é uma estimativa puramente estatística e não leva em consideração fatores externos, como mudanças no mercado, na concorrência ou em preferências de clientes."
      ],
      "metadata": {
        "id": "c-qd7XNLGODk"
      }
    },
    {
      "cell_type": "markdown",
      "source": [
        "### 7 - Considerando sua opinião, qual o total de venda em 2023?\n",
        "\n",
        "Não é possivel prever os dados futuros pela falta de detalhamento nos dados para utilizar no modelo preditivo, mas podemos dizer que provavelmente teria um aumento no número de vendas seguindo o padrão dos anos anteriores\n"
      ],
      "metadata": {
        "id": "98VK5tsAGeZT"
      }
    }
  ]
}